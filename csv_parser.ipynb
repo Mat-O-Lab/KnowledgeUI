{
  "nbformat": 4,
  "nbformat_minor": 0,
  "metadata": {
    "colab": {
      "name": "csv_parser.ipynb",
      "provenance": [],
      "collapsed_sections": [],
      "include_colab_link": true
    },
    "kernelspec": {
      "display_name": "Python 3",
      "language": "python",
      "name": "python3"
    },
    "language_info": {
      "codemirror_mode": {
        "name": "ipython",
        "version": 3
      },
      "file_extension": ".py",
      "mimetype": "text/x-python",
      "name": "python",
      "nbconvert_exporter": "python",
      "pygments_lexer": "ipython3",
      "version": "3.4.3"
    }
  },
  "cells": [
    {
      "cell_type": "markdown",
      "metadata": {
        "id": "view-in-github",
        "colab_type": "text"
      },
      "source": [
        "<a href=\"https://colab.research.google.com/github/Mat-O-Lab/CSVToCSVW/blob/main/csv_parser.ipynb\" target=\"_parent\"><img src=\"https://colab.research.google.com/assets/colab-badge.svg\" alt=\"Open In Colab\"/></a>"
      ]
    },
    {
      "cell_type": "code",
      "metadata": {
        "id": "T23aj7f1req6",
        "colab": {
          "base_uri": "https://localhost:8080/"
        },
        "outputId": "d4a6789e-f079-4bf3-cfee-f095ccb497ce"
      },
      "source": [
        "#-*- coding: UTF-8 -*-\n",
        "#@title Code - Run Once To Start { vertical-output: true, display-mode: \"form\" }\n",
        "import ipywidgets as widgets\n",
        "from IPython.display import display, clear_output\n",
        "import sys\n",
        "import base64\n",
        "import json\n",
        "\n",
        "%matplotlib notebook\n",
        "\n",
        "!pip install Owlready2\n",
        "from owlready2 import *\n",
        "\n",
        "url = \"https://raw.githubusercontent.com/Mat-O-Lab/CSVToCSVW/main/annotator.py\"\n",
        "file_name = 'csvtocsvw.py'\n",
        "\n",
        "from urllib.request import urlretrieve\n",
        "\n",
        "import os.path\n",
        "if not os.path.isfile(file_name):\n",
        "  urlretrieve(url,file_name) \n",
        "import csvtocsvw\n",
        "\n",
        "#there is a bug in Owlready2 when having imports in turtle in a owl file\n",
        "# if the error is thrown, load again and it is fine\n",
        "try:\n",
        "  mseo=get_ontology(\"https://purl.matolab.org/mseo/mid\").load()\n",
        "except:\n",
        "  mseo=get_ontology(\"https://purl.matolab.org/mseo/mid\").load()\n",
        "  \n",
        "cco_mu=get_ontology(\"http://www.ontologyrepository.com/CommonCoreOntologies/Mid/UnitsOfMeasureOntology/\").load()\n",
        "qudt=get_ontology('http://www.qudt.org/qudt/owl/1.0.0/unit.owl').load()\n",
        "\n",
        "class AnnotatorDialog():\n",
        "  def __init__(self, csv_url=''):\n",
        "      self.csv_url = csv_url\n",
        "  def _create_initial_widgets(self):\n",
        "      self.url_widget=widgets.Text(\n",
        "          value='',\n",
        "          placeholder='put ur url to a *-metadata.json here',\n",
        "          description='Url:',\n",
        "          disabled=False\n",
        "          )\n",
        "      # self.uploader = widgets.FileUpload(accept='',  # Accepted file extension e.g. '.txt', '.pdf', 'image/*', 'image/*,.pdf'\n",
        "      #                                     multiple=False,  # True to accept multiple files upload else False\n",
        "      #                                     description='Upload'\n",
        "      #                                     )\n",
        "      self.clear_button = widgets.Button(description='Clear!', layout=widgets.Layout(width='100px')); \n",
        "      self.file_dialog= widgets.HBox([widgets.Label(value=\"File:\"), self.url_widget ])#,self.uploader,self.clear_button])\n",
        "      self.clear_button.on_click(self._on_clear)\n",
        "      \n",
        "      self.out = widgets.Output()  # this is the output widget in which the df is displayed\n",
        "      self.encoding = widgets.Dropdown(\n",
        "          options=['auto', 'ISO-8859-1', 'utf-8', 'ascii', 'latin-1','cp273'],\n",
        "          value='auto',\n",
        "          description='Encoding:',\n",
        "          disabled=False,\n",
        "      )\n",
        "      self.separator = widgets.Dropdown(\n",
        "          options=['auto', ',',';', '\\t', '|', \"\\s+\",\"\\s+|\\t+|\\s+\\t+|\\t+\\s+\"],\n",
        "          value='auto',\n",
        "          description='separator:',\n",
        "          disabled=False,\n",
        "      )\n",
        "      self.settings= widgets.HBox([self.encoding, self.separator])\n",
        "      self.process_button = widgets.Button(description='Process!', layout=widgets.Layout(width='200px')); \n",
        "      self.process_button.on_click(self._on_process)\n",
        "  def _on_clear(self,button):\n",
        "    self.url_widget.value=''\n",
        "    self.uploader.value.clear()\n",
        "    self.uploader._counter = 0\n",
        "\n",
        "  def _on_process(self,button):\n",
        "    with self.out:\n",
        "      clear_output()\n",
        "      if not (self.url_widget.value or self.uploader.value.keys()):\n",
        "          print('pls upload a file first or insert a url')\n",
        "          return\n",
        "      if self.url_widget.value:\n",
        "        self.data_uri=self.url_widget.value\n",
        "      else:\n",
        "        print('no input uri given')\n",
        "      self.annotator=csvtocsvw.CSV_Annotator(separator=self.separator.value,encoding=self.encoding.value)\n",
        "      metafile_name, result=self.annotator.process(self.data_uri)\n",
        "      print(result)\n",
        "      res = result\n",
        "      b64 = base64.b64encode(res.encode())\n",
        "      payload = b64.decode()\n",
        "      html_buttons = '''<html>\n",
        "      <head>\n",
        "      <meta name=\"viewport\" content=\"width=device-width, initial-scale=1\">\n",
        "      </head>\n",
        "      <body>\n",
        "      <a download=\"{filename}\" href=\"data:text/json;base64,{payload}\" download>\n",
        "      <button class=\"p-Widget jupyter-widgets jupyter-button widget-button mod-warning\">Download File</button>\n",
        "      </a>\n",
        "      </body>\n",
        "      </html>\n",
        "      '''\n",
        "      html_button = html_buttons.format(payload=payload,filename=metafile_name)\n",
        "      display(widgets.HTML(html_button))\n",
        "\n",
        "    \n",
        "  def display_widgets(self):\n",
        "    self._create_initial_widgets()\n",
        "    display(widgets.VBox(\n",
        "                [\n",
        "                  self.file_dialog,\n",
        "                  self.settings,\n",
        "                  self.process_button,\n",
        "                  self.out\n",
        "                ]\n",
        "            )\n",
        "    )"
      ],
      "execution_count": 3,
      "outputs": [
        {
          "output_type": "stream",
          "name": "stdout",
          "text": [
            "Requirement already satisfied: Owlready2 in /usr/local/lib/python3.7/dist-packages (0.35)\n"
          ]
        }
      ]
    },
    {
      "cell_type": "code",
      "metadata": {
        "id": "GtuhMq9VzdvR",
        "cellView": "form"
      },
      "source": [
        "#@title Dialog - Run Cell to begin\n",
        "dialog = AnnotatorDialog()\n",
        "dialog.display_widgets()"
      ],
      "execution_count": null,
      "outputs": []
    }
  ]
}